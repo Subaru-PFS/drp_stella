{
 "cells": [
  {
   "cell_type": "code",
   "execution_count": 0,
   "metadata": {
    "collapsed": false
   },
   "outputs": [],
   "source": [
    "import pfs.drp.stella.findAndTraceAperturesTask as fataTask\n",
    "import pfs.drp.stella.createFlatFiberTraceProfileTask as cfftpTask\n",
    "import pfs.drp.stella.extractSpectraTask as esTask\n",
    "import pfs.drp.stella as drpStella\n",
    "import numpy as np\n",
    "import matplotlib.pyplot as plt\n",
    "import pdb\n",
    "import lsst.daf.persistence as dafPersist\n",
    "import lsst.afw.cameraGeom.utils as cgUtils\n",
    "import lsst.afw.display.ds9 as ds9\n",
    "from astropy.io import fits as pyfits\n",
    "%matplotlib inline"
   ]
  },
  {
   "cell_type": "code",
   "execution_count": 0,
   "metadata": {
    "collapsed": false
   },
   "outputs": [],
   "source": [
    "#%run /Users/azuri/stella-git/drp_stella/python/pfs/drp/stella/demo.py '/Volumes/My Passport/data/spectra/pfs/temp/PFS' --calib='/Volumes/My Passport/data/spectra/pfs/temp/PFS/CALIB' --id site='F' category='A' det=2 filter='PFS-R' -c isr.doBias=False isr.doDark=False isr.doFlat=False isr.doFringe=False isr.removePcCards=False isr.doDefect=False isr.qa.doThumbnailOss=False isr.doLinearize=False isr.qa.doThumbnailFlattened=False isr.doGuider=False isr.doWriteVignettePolygon=False --doraise "
   ]
  },
  {
   "cell_type": "code",
   "execution_count": 0,
   "metadata": {
    "collapsed": false
   },
   "outputs": [],
   "source": [
    "butler = dafPersist.Butler(\"/Volumes/My Passport/data/spectra/pfs/PFS\")"
   ]
  },
  {
   "cell_type": "code",
   "execution_count": 0,
   "metadata": {
    "collapsed": false
   },
   "outputs": [],
   "source": [
    "flat = butler.get('postISRCCD', visit=5, filter='PFS-R', spectrograph=2, site='F', category='A', immediate=True)\n",
    "print 'type(flat) = ',type(flat)\n"
   ]
  },
  {
   "cell_type": "code",
   "execution_count": 0,
   "metadata": {
    "collapsed": false
   },
   "outputs": [],
   "source": [
    "frame=1\n",
    "ds9.mtv(flat, frame=frame, title='flat')\n"
   ]
  },
  {
   "cell_type": "code",
   "execution_count": 0,
   "metadata": {
    "collapsed": false
   },
   "outputs": [],
   "source": [
    "myFindTask = fataTask.FindAndTraceAperturesTask()\n",
    "fts = myFindTask.run(flat)\n",
    "print fts.size()\n",
    "#for i in range(fts.size()):\n",
    "#    print 'FiberTrace ',i\n",
    "    print fts.getFiberTrace(i).getXCenters().shape[0]\n",
    "    print fts.getFiberTrace(i).getHeight()\n",
    "    print fts.getFiberTrace(i).getFiberTraceFunction().yLow\n",
    "    print fts.getFiberTrace(i).getFiberTraceFunction().yHigh\n",
    "    length = fts.getFiberTrace(i).getFiberTraceFunction().yHigh - fts.getFiberTrace(i).getFiberTraceFunction().yLow + 1\n",
    "    print length\n",
    "\n"
   ]
  },
  {
   "cell_type": "code",
   "execution_count": 0,
   "metadata": {
    "collapsed": false
   },
   "outputs": [],
   "source": [
    "# TEST CreateFlatFiberTraceProfileTask\n",
    "cfftpTask = reload(cfftpTask)\n",
    "\n",
    "print fts.getFiberTrace(fts.size()-1).getXCenters().shape[0]\n",
    "print fts.getFiberTrace(fts.size()-1).getHeight()\n",
    "print fts.getFiberTrace(fts.size()-1).getFiberTraceFunction().yLow\n",
    "print fts.getFiberTrace(fts.size()-1).getFiberTraceFunction().yHigh\n",
    "length = fts.getFiberTrace(fts.size()-1).getFiberTraceFunction().yHigh -  fts.getFiberTrace(fts.size()-1).getFiberTraceFunction().yLow + 1\n",
    "print length\n",
    "\n",
    "myProfileTask = cfftpTask.CreateFlatFiberTraceProfileTask()\n",
    "\n",
    "\"\"\"calculate flat profiles\"\"\"\n",
    "myProfileTask.run(fts)\n",
    "\n",
    "print \"fts.getFiberTrace(0).getProfile().getArray() = \"\n",
    "print fts.getFiberTrace(0).getProfile().getArray()[0,:]\n",
    "print \" \"\n",
    "print \"fts.getFiberTrace(1).getProfile().getArray()\"\n",
    "print fts.getFiberTrace(1).getProfile().getArray()[0,:]\n",
    "print \" \"\n",
    "print \"fts.getFiberTrace(2).getProfile().getArray()\"\n",
    "print fts.getFiberTrace(2).getProfile().getArray()[0,:]\n",
    "print 'fts.getFiberTrace(fts.size()-1) = ',fts.getFiberTrace(fts.size()-1)\n",
    "print 'fts.getFiberTrace(fts.size()-1).getXCenters() = ',fts.getFiberTrace(fts.size()-1).getXCenters()\n",
    "print len(fts.getFiberTrace(fts.size()-1).getXCenters())\n",
    "print fts.getFiberTrace(fts.size()-1).getHeight()\n",
    "print fts.getFiberTrace(fts.size()-1).getFiberTraceFunction().yLow\n",
    "print fts.getFiberTrace(fts.size()-1).getFiberTraceFunction().yHigh\n",
    "length = fts.getFiberTrace(fts.size()-1).getFiberTraceFunction().yHigh -  fts.getFiberTrace(fts.size()-1).getFiberTraceFunction().yLow + 1\n",
    "print length\n",
    "\n",
    "\"\"\"extract flats from profiles\"\"\"\n",
    "spectrumSet = fts.extractAllTracesFromProfile()\n",
    "if False:\n",
    "    for i in range(spectrumSet.size()):\n",
    "        plt.plot(spectrumSet.getSpectrum(i).getSpectrum(),'-+')\n",
    "        plt.xlim(1000,1500)\n",
    "\n"
   ]
  },
  {
   "cell_type": "code",
   "execution_count": 0,
   "metadata": {
    "collapsed": false
   },
   "outputs": [],
   "source": [
    "arc = butler.get('postISRCCD', visit=4, filter='PFS-R', spectrograph=2, site='F', category='A', immediate=True)\n"
   ]
  },
  {
   "cell_type": "code",
   "execution_count": 0,
   "metadata": {
    "collapsed": false
   },
   "outputs": [],
   "source": [
    "frame=2\n",
    "ds9.mtv(arc, frame=frame, title='arc')\n"
   ]
  },
  {
   "cell_type": "code",
   "execution_count": 0,
   "metadata": {
    "collapsed": false
   },
   "outputs": [],
   "source": [
    "myExtractTask = esTask.ExtractSpectraTask()\n",
    "\n",
    "\"\"\"Extract all apertures\"\"\"\n",
    "iAperturesToExtract = [-1]#np.arange(0,2,1,int)\n",
    "spectrumSetFromProfile = myExtractTask.run(arc, fts, iAperturesToExtract)\n",
    "print 'type(spectrumSetFromProfile.getSpectrum(0).getSpectrum()[0]) = ',type(spectrumSetFromProfile.getSpectrum(0).getSpectrum()[0])\n",
    "\n",
    "if True:\n",
    "    fig = plt.figure()\n",
    "    ax = fig.add_subplot(1, 1, 1)\n",
    "    for i in range(spectrumSetFromProfile.size()):\n",
    "        ax.plot(spectrumSetFromProfile.getSpectrum(i).getSpectrum(),'-+')\n",
    "        plt.xlim(1450,1600)\n",
    "        plt.ylim(0,8000)\n",
    "    plt.show()\n",
    "    plt.close(fig)\n",
    "    fig.clf()"
   ]
  },
  {
   "cell_type": "code",
   "execution_count": 0,
   "metadata": {
    "collapsed": false
   },
   "outputs": [],
   "source": [
    "refSpec = spectrumSetFromProfile.getSpectrum(int(spectrumSetFromProfile.size() / 2))\n",
    "ref = refSpec.getSpectrum()\n",
    "print ref\n",
    "#hdu = pyfits.PrimaryHDU(ref)\n",
    "#hdu.writeto('/Users/azuri/stella-git/obs_Subaru/pfs/arcSpectra/refSpec_CdHgKrNeXe_red.fits')"
   ]
  },
  {
   "cell_type": "code",
   "execution_count": 0,
   "metadata": {
    "collapsed": false
   },
   "outputs": [],
   "source": [
    "fileName = '/Users/azuri/stella-git/obs_Subaru/pfs/lineLists/CdHgKrNeXe_wlen_strength.txt'\n",
    "dType = 'float32'\n",
    "%run readFile.ipynb\n",
    "#print dataArr\n",
    "tempArr = np.arange(3500., 13000., 1.)\n",
    "print tempArr.shape\n",
    "plotArr = np.ndarray(shape=(tempArr.shape[0] + dataArr.shape[0], 2))\n",
    "print plotArr.shape\n",
    "iWLen = 0\n",
    "iX = 0\n",
    "iTemp = 0\n",
    "for x in tempArr:\n",
    "    if iWLen < dataArr.shape[0]:\n",
    "        if x > dataArr[iWLen][0]:\n",
    "            plotArr[iX][:] = dataArr[iWLen][:]\n",
    "#            print 'plotArr[',iX,'][:] set to ',plotArr[iX][:]\n",
    "            iWLen = iWLen + 1\n",
    "#            print 'iWLen set to ',iWLen\n",
    "            iX = iX + 1\n",
    "#            print 'iX set to ',iX\n",
    "    plotArr[iX][0] = tempArr[iTemp]\n",
    "    plotArr[iX][1] = 0.\n",
    "#    print 'plotArr[',iX,'][:] set to ',plotArr[iX][:]\n",
    "    iTemp = iTemp + 1\n",
    "#    print 'iTemp set to ',iTemp\n",
    "    iX = iX + 1\n",
    "#    print 'iX set to ',iX\n",
    "#print plotArr"
   ]
  },
  {
   "cell_type": "code",
   "execution_count": 0,
   "metadata": {
    "collapsed": false
   },
   "outputs": [],
   "source": [
    "xRange = [7500.,9500.]\n",
    "fig = plt.figure()\n",
    "ax = fig.add_subplot(1, 1, 1)\n",
    "ax.plot(plotArr[:,0],plotArr[:,1],'b+-')\n",
    "plt.xlim(xRange[0],xRange[1])\n",
    "#plt.ylim(0,1000)\n",
    "plt.show()\n",
    "plt.close(fig)\n",
    "\n",
    "#for (x,y) in plotArr[:][:]:\n",
    "#    if x > xRange[0] and x < xRange[1]:\n",
    "#        print x,y\n"
   ]
  },
  {
   "cell_type": "code",
   "execution_count": 0,
   "metadata": {
    "collapsed": false
   },
   "outputs": [],
   "source": [
    "# create line list fits file\n",
    "fileName = '/Users/azuri/stella-git/obs_subaru/pfs/lineLists/CdHgKrNeXe_use.txt'\n",
    "\"\"\" count lines \"\"\"\n",
    "nLines = 0\n",
    "nDataLines = 0\n",
    "with open(fileName, 'r') as inFile:\n",
    "    while inFile.readline() != '':\n",
    "        nLines = nLines + 1\n",
    "#            print 'nLines = ',nLines\n",
    "inFile.closed\n",
    "nDataLines = nLines\n",
    "\n",
    "\"\"\" read file to dataArr \"\"\"\n",
    "colWLen = np.ndarray(shape=(nDataLines), dtype='float')\n",
    "colPix = np.ndarray(shape=(nDataLines), dtype='float')\n",
    "colElement = np.empty(nDataLines, dtype='|S2')\n",
    "#colStrength = np.empty(nDataLines, dtype='int')\n",
    "colComment = np.empty(nDataLines, dtype='|S128')\n",
    "iDataLine = 0\n",
    "with open(fileName, 'r') as inFile:\n",
    "    for iLine in np.arange(0,nLines,1):\n",
    "        line = inFile.readline()\n",
    "        print 'iLine = ',iLine,': line = <',line,'>'\n",
    "        if len(line) > 0:\n",
    "            if line[0] != '#':\n",
    "                words = line.split()\n",
    "                colWLen[iDataLine] = float(words[0])\n",
    "                colPix[iDataLine] = float(words[1])\n",
    "                print 'iLine = ',iLine,': colWLen[',iDataLine,'] = ',colWLen[iDataLine]\n",
    "                print 'iLine = ',iLine,': colPix[',iDataLine,'] = ',colPix[iDataLine]\n",
    "                colElement[iDataLine] = words[2]\n",
    "                colComment[iDataLine] = ''\n",
    "                print 'len(words) = ',len(words)\n",
    "                for iWord in np.arange(3,len(words),1):\n",
    "                    print 'colComment[',iDataLine,'] = ',colComment[iDataLine],', words[',iWord,'] = ',words[iWord]\n",
    "                    colComment[iDataLine] = colComment[iDataLine] + words[iWord]\n",
    "                    if iWord < len(words) - 1:\n",
    "                        colComment[iDataLine] = colComment[iDataLine] + ' '\n",
    "                    print 'colComment[',iDataLine,'] = <',colComment[iDataLine],'>'\n",
    "\n",
    "                iDataLine = iDataLine + 1\n",
    "inFile.closed\n",
    "print 'colWLen = ',colWLen\n",
    "print 'colPix = ',colPix\n",
    "print 'colElement = ',colElement\n",
    "print 'colComment = ',colComment\n",
    "\n",
    "col1 = pyfits.Column(name='wavelength', format='E', array=colWLen)\n",
    "col2 = pyfits.Column(name='pixel', format='E', array=colPix)\n",
    "col3 = pyfits.Column(name='element', format='2A', array=colElement)\n",
    "col4 = pyfits.Column(name='comment', format='128A', array=colComment)\n",
    "cols = pyfits.ColDefs([col1, col2, col3, col4])\n",
    "tbhdu = pyfits.BinTableHDU.from_columns(cols)\n",
    "#tbhdu.writeto('/Users/azuri/stella-git/obs_subaru/pfs/lineLists/CdHgKrNeXe_red.fits')"
   ]
  },
  {
   "cell_type": "code",
   "execution_count": 0,
   "metadata": {
    "collapsed": false
   },
   "outputs": [],
   "source": [
    "hdulist = pyfits.open('/Users/azuri/stella-git/obs_subaru/pfs/lineLists/CdHgKrNeXe_red.fits')\n",
    "tbdata = hdulist[1].data\n",
    "print tbdata[0]\n",
    "print tbdata[0][:]\n",
    "print tbdata[:][0]\n",
    "\n",
    "print len(tbdata)\n",
    "lineList = np.ndarray(shape=(len(tbdata),2), dtype='float64')\n",
    "print 'type(lineList) = ',type(lineList),', ',type(lineList[0,0])\n",
    "\n",
    "lineList[:,0] = tbdata.field(0)\n",
    "lineList[:,1] = tbdata.field(1)\n",
    "\n",
    "print lineList.shape"
   ]
  },
  {
   "cell_type": "code",
   "execution_count": 0,
   "metadata": {
    "collapsed": false
   },
   "outputs": [],
   "source": [
    "dispCorControl = drpStella.DispCorControl()\n",
    "print 'type(lineList) = ',type(lineList),', ',type(lineList[0,0])\n",
    "refSpec.identifyD(lineList, dispCorControl)\n",
    "print refSpec.getDispCoeffs()\n",
    "print refSpec.getDispRms()\n",
    "print refSpec.getWavelength()\n",
    "print 'ref = ',ref.shape,': ',ref\n",
    "col1 = pyfits.Column(name='flux', format='E', array=ref)\n",
    "cols = pyfits.ColDefs([col1])\n",
    "tbhdu = pyfits.BinTableHDU.from_columns(cols)\n",
    "refSpecName = '/Users/azuri/stella-git/obs_subaru/pfs/lineLists/refCdHgKrNeXe_red.fits'\n",
    "#tbhdu.writeto(refSpecName)"
   ]
  },
  {
   "cell_type": "code",
   "execution_count": 0,
   "metadata": {
    "collapsed": false
   },
   "outputs": [],
   "source": [
    "refSpecSpec = refSpec.getSpectrum()\n",
    "#print 'type(specSpec) = ',type(specSpec),': ',type(specSpec[0])\n",
    "print 'type(refSpecSpec) = ',type(refSpecSpec),': ',type(refSpecSpec[0])\n",
    "print 'refSpecSpec.shape = ',refSpecSpec.shape\n",
    "print 'type(lineList) = ',type(lineList),': ',type(lineList[0][0])\n",
    "\n",
    "hdulist = pyfits.open(refSpecName)\n",
    "tbdata = hdulist[1].data\n",
    "refSpecArr = np.ndarray(shape=(len(tbdata)), dtype='float32')\n",
    "refSpecArr[:] = tbdata.field(0)\n",
    "print 'refSpecArr.shape = ',refSpecArr.shape\n",
    "\n",
    "dispCorControl = drpStella.DispCorControl()\n",
    "dispCorControl.radiusXCor = 50\n",
    "dispCorControl.lengthPieces = 500\n",
    "dispCorControl.nCalcs = 15\n",
    "dispCorControl.stretchMinLength = 460\n",
    "dispCorControl.stretchMaxLength = 540\n",
    "dispCorControl.nStretches = 80\n",
    "\n",
    "for i in range(spectrumSetFromProfile.size()):\n",
    "    spec = spectrumSetFromProfile.getSpectrum(i)\n",
    "    specSpec = spec.getSpectrum()\n",
    "    result = drpStella.stretchAndCrossCorrelateSpecFD(specSpec,refSpecArr, lineList, dispCorControl)\n",
    "    print result.lineList\n",
    "    spec.identifyD(result.lineList, dispCorControl)\n",
    "    print spec.getDispCoeffs()\n",
    "    print spec.getDispRms()\n",
    "    print spec.getWavelength()"
   ]
  },
  {
   "cell_type": "code",
   "execution_count": 0,
   "metadata": {
    "collapsed": false
   },
   "outputs": [],
   "source": [
    "DA1_ChiSquare = [2.29379e+07, 2.24558e+07, 2.20587e+07, 2.18063e+07, 2.17079e+07, 2.18065e+07, 2.21231e+07, 2.2699e+07, 2.40911e+07, 2.57779e+07, 2.63033e+07, 2.5984e+07, 2.58379e+07, 2.59771e+07, 2.61889e+07, 2.63426e+07, 2.64579e+07, 2.65831e+07, 2.67063e+07, 2.67886e+07, 2.6812e+07, 2.67894e+07, 2.6756e+07, 2.67363e+07, 2.66823e+07, 2.63613e+07, 2.53419e+07, 2.34224e+07, 2.12032e+07, 1.9763e+07, 1.93547e+07, 1.88487e+07, 1.73226e+07, 1.55852e+07, 1.52331e+07, 1.61924e+07, 1.64161e+07, 1.45775e+07, 1.21366e+07, 1.19469e+07, 1.49942e+07, 1.94745e+07, 2.30253e+07, 2.49164e+07, 2.56663e+07, 2.54008e+07, 2.40057e+07, 2.19789e+07, 2.04794e+07, 2.05845e+07, 2.22099e+07, 2.4291e+07, 2.56915e+07, 2.62494e+07, 2.64019e+07, 2.65161e+07, 2.66858e+07, 2.68723e+07, 2.70232e+07, 2.7089e+07, 2.69982e+07, 2.66649e+07, 2.60621e+07, 2.53356e+07, 2.47783e+07, 2.45044e+07, 2.42151e+07, 2.36003e+07, 2.29277e+07, 2.28571e+07, 2.35921e+07, 2.45958e+07, 2.52446e+07, 2.54563e+07, 2.507e+07, 2.38031e+07, 2.27216e+07, 2.27002e+07, 2.26453e+07, 2.18068e+07, 2.03837e+07, 1.91892e+07, 1.90827e+07, 2.01818e+07, 2.17574e+07, 2.29837e+07, 2.35624e+07, 2.36276e+07, 2.33596e+07, 2.29005e+07, 2.2489e+07, 2.24073e+07, 2.27413e+07, 2.32744e+07, 2.36654e+07, 2.36963e+07, 2.33635e+07, 2.27883e+07, 2.21268e+07, 2.15901e+07, 2.14439e+07]\n",
    "plt.plot(DA1_ChiSquare)\n",
    "#plt.xlim(37,40)"
   ]
  },
  {
   "cell_type": "code",
   "execution_count": 0,
   "metadata": {
    "collapsed": false
   },
   "outputs": [],
   "source": [
    "colormap = plt.cm.gist_ncar\n",
    "plt.gca().set_color_cycle([colormap(i) for i in np.linspace(0, 0.9, result.specPieces.shape[2]/4)])\n",
    "\n",
    "for i in range(result.specPieces.shape[2]):\n",
    "    specPlot = result.specPieces[:,:,i]\n",
    "    print 'specPlot.shape = ',specPlot.shape\n",
    "    print 'specPlot = ',specPlot\n",
    "    plt.plot(specPlot[:,0], specPlot[:,1])\n",
    "\n",
    "plt.xlim(3500,4000)\n",
    "plt.ylim(0,10000)"
   ]
  },
  {
   "cell_type": "code",
   "execution_count": 0,
   "metadata": {
    "collapsed": false
   },
   "outputs": [],
   "source": []
  }
 ],
 "metadata": {
  "kernelspec": {
   "display_name": "Python 2",
   "language": "python",
   "name": "python2"
  },
  "language_info": {
   "codemirror_mode": {
    "name": "ipython",
    "version": 2
   },
   "file_extension": ".py",
   "mimetype": "text/x-python",
   "name": "python",
   "nbconvert_exporter": "python",
   "pygments_lexer": "ipython2",
   "version": "2.7.11"
  }
 },
 "nbformat": 4,
 "nbformat_minor": 0
}