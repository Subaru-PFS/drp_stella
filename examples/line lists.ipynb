{
 "cells": [
  {
   "cell_type": "code",
   "execution_count": null,
   "metadata": {
    "collapsed": false
   },
   "outputs": [],
   "source": [
    "# create the master line list\n",
    "\n",
    "import os\n",
    "\n",
    "import lsst.daf.persistence as dafPersist\n",
    "from lsst.obs.pfs.constructLineList import ConstructLineListTask\n",
    "from lsst.utils import getPackageDir\n",
    "import pfs.drp.stella as drpStella\n",
    "\n",
    "%matplotlib inline\n",
    "#%matplotlib notebook\n",
    "\n",
    "path = \"/Volumes/external/azuri/spectra/pfs/LAM\"\n",
    "\n",
    "# create dataId for Arc\n",
    "arcVisits = [2114,2579,2580,2581,2118]\n",
    "spectrograph = 1\n",
    "arm = 'r'\n",
    "\n",
    "# create butler\n",
    "butler = dafPersist.Butler(path)\n",
    "print 'butler created'\n",
    "\n",
    "# create butler subset\n",
    "dataRefList = []\n",
    "dataIdArc = dict(field=\"ARC\", spectrograph=spectrograph, arm=arm)\n",
    "for visit in arcVisits:\n",
    "    dataIdArc['visit'] = visit\n",
    "    dataRefListTemp = [ref for ref in butler.subset(\"postISRCCD\", 'visit', dataIdArc)]\n",
    "    dataRefList.append(dataRefListTemp[0])\n",
    "print 'len(dataRefList) = ',len(dataRefList)\n",
    "\n",
    "# create config\n",
    "config = ConstructLineListTask.ConfigClass()\n",
    "\n",
    "# apply config overrides\n",
    "ConstructLineListTask.applyOverrides(config)\n",
    "constructLineListTask = ConstructLineListTask(config=config)\n",
    "constructLineListTask.config.plot = [7,68,196,258,315,337,394,456,583,645]\n",
    "constructLineListTask.config.aperturesToExtract = [-1]\n",
    "constructLineListTask.config.fwhm = 2.2\n",
    "constructLineListTask.config.order = 5\n",
    "constructLineListTask.config.clobber = True\n",
    "\n",
    "# set logLevel\n",
    "logLevel = {0: \"WARN\", 1: \"INFO\", 2: \"DEBUG\", 3: \"TRACE\"}[0]\n",
    "constructLineListTask.logLevel = logLevel\n",
    "\n",
    "# create master line list\n",
    "# This will print an 'OptimizeWarning' which you can safely ignore\n",
    "constructLineListTask.run(dataRefList, butler)\n",
    "\n",
    "print 'done'"
   ]
  },
  {
   "cell_type": "code",
   "execution_count": null,
   "metadata": {
    "collapsed": false
   },
   "outputs": [],
   "source": [
    "from pfs.drp.stella.reduceArcTask import ReduceArcTask\n",
    "from pfs.drp.stella.utils import plotWavelengthResiduals\n",
    "import lsst.log as log\n",
    "\n",
    "myReduceArcTask = ReduceArcTask()\n",
    "\n",
    "wLenFile = os.path.join(getPackageDir('obs_pfs'), 'pfs/RedFiberPixels.fits.gz')\n",
    "\n",
    "# set reduceArcTask parameters and run\n",
    "myReduceArcTask.config.plot = 2\n",
    "myReduceArcTask.logLevel=logLevel\n",
    "\n",
    "dataRefList = []\n",
    "dataIdArc = dict(field=\"ARC\", spectrograph=spectrograph, arm=arm)\n",
    "elements = ['Ne','Hg,Ar','Hg,Ar','Hg,Ar','Ne,Hg,Ar']\n",
    "for iVisit in range(len(arcVisits)):\n",
    "    visit = arcVisits[iVisit]\n",
    "    element = elements[iVisit]\n",
    "    print 'visit = ',visit,', element = ',element\n",
    "    dataIdArc['visit'] = visit\n",
    "    dataRefList = [ref for ref in butler.subset(\"postISRCCD\", 'visit', dataIdArc)]\n",
    "    myReduceArcTask.config.elements=element\n",
    "\n",
    "    spectrumSetFromProfile, measuredLinesPerArc, offsetPerArc, flatFiberTraceSet = myReduceArcTask.run(dataRefList, butler, wLenFile)\n",
    "\n",
    "    print 'type(spectrumSetFromProfile) = ',type(spectrumSetFromProfile)\n",
    "\n",
    "    for iTrace in range(spectrumSetFromProfile.size()):\n",
    "        print 'fiberTraceId[',iTrace,'] = ',spectrumSetFromProfile.getSpectrum(iTrace).getITrace()\n",
    "    \n",
    "    for fiberTraceId in [7,68,196,258,315,337,394,456,583,645]:\n",
    "        fiberIdx = int(flatFiberTraceSet.getIndexWithId(fiberTraceId))\n",
    "        lineList = measuredLinesPerArc[0][fiberIdx]\n",
    "        print 'type(fiberIdx) = ',type(fiberIdx)\n",
    "\n",
    "        logger = log.Log.getLogger(\"plotWavelengthResiduals\")\n",
    "        logger.setLevel(log.TRACE)\n",
    "        logger = log.Log.getLogger(\"reduceArcTask\")\n",
    "        logger.setLevel(log.INFO)\n",
    "        spectrum = spectrumSetFromProfile.getSpectrum(fiberIdx)\n",
    "        plotWavelengthResiduals(lineList, fiberTraceId, spectrum.getDispRms())    "
   ]
  },
  {
   "cell_type": "code",
   "execution_count": null,
   "metadata": {
    "collapsed": true
   },
   "outputs": [],
   "source": []
  }
 ],
 "metadata": {
  "anaconda-cloud": {},
  "kernelspec": {
   "display_name": "Python 2",
   "language": "python",
   "name": "python2"
  },
  "language_info": {
   "codemirror_mode": {
    "name": "ipython",
    "version": 2
   },
   "file_extension": ".py",
   "mimetype": "text/x-python",
   "name": "python",
   "nbconvert_exporter": "python",
   "pygments_lexer": "ipython2",
   "version": "2.7.12"
  }
 },
 "nbformat": 4,
 "nbformat_minor": 1
}
