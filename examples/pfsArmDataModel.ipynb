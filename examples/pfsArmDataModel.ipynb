{
 "cells": [
  {
   "cell_type": "code",
   "execution_count": 0,
   "metadata": {
    "collapsed": false
   },
   "outputs": [],
   "source": [
    "import os\n",
    "import lsst.utils\n",
    "import lsst.daf.persistence as dafPersist\n",
    "import pfs.datamodel as dm\n",
    "from pfs.datamodel.pfsArm import PfsArm\n",
    "import pfs.drp.stella.reduceArcTask as rat\n",
    "import subprocess\n",
    "from pfs.datamodel.pfsConfig import PfsConfig"
   ]
  },
  {
   "cell_type": "code",
   "execution_count": 0,
   "metadata": {
    "collapsed": false
   },
   "outputs": [],
   "source": [
    "a = PfsArm\n",
    "print a\n",
    "print dir(a)"
   ]
  },
  {
   "cell_type": "code",
   "execution_count": 0,
   "metadata": {
    "collapsed": false
   },
   "outputs": [],
   "source": [
    "pfsConfig = PfsConfig(pfsConfigId=None, tract=0, patch=0, fiberId=[0], ra=[0], dec=[0], catId=0, objId=0, fiberMag=0, mpsCen=0, filterNames=[\"g\", \"r\", \"i\", \"z\", \"y\"])\n",
    "print pfsConfig.pfsConfigId\n",
    "print pfsConfig.tract"
   ]
  },
  {
   "cell_type": "code",
   "execution_count": 0,
   "metadata": {
    "collapsed": false
   },
   "outputs": [],
   "source": [
    "myRat = rat.ReduceArcTask()\n",
    "dataDir = os.path.join(lsst.utils.getPackageDir(\"drp_stella_data\"),'data/PFS')\n",
    "calibDir = os.path.join(dataDir,'CALIB')\n",
    "wLenFile = os.path.join(lsst.utils.getPackageDir(\"obs_pfs\"),'pfs/RedFiberPixels.fits.gz')\n",
    "lineList = os.path.join(lsst.utils.getPackageDir(\"obs_pfs\"),'pfs/lineLists/CdHgKrNeXe_red.fits')\n",
    "refSpec = os.path.join(lsst.utils.getPackageDir('obs_pfs'), 'pfs/arcSpectra/refSpec_CdHgKrNeXe_red.fits')\n",
    "arcVisit = 4\n",
    "\n",
    "print dataDir\n",
    "butler = dafPersist.Butler(dataDir)\n",
    "dataId = dict(visit=4, ccd=5)\n",
    "print 'dir(dataId)=',dir(dataId)\n",
    "\n",
    "#expRefList = butler.get('postISRCCD', dataId)\n",
    "print dir(butler)\n",
    "refSet = [butler.dataRef('postISRCCD', dataId=dataId)]\n",
    "print refSet[0]\n",
    "#spectrumSet = subprocess.Popen(\"reduceArcRefSpec.py %s --id visit=%d --refSpec %s --lineList %s --loglevel 'info' --calib %s --output %s --clobber-config\" % (dataDir, arcVisit, refSpec, lineList, calibDir, dataDir), shell=True)\n",
    "#print spectrumSet\n",
    "#myRatr = rat.ReduceArcTaskRunner(dataId, butler, wLenFile=wLenFile, lineList=lineList)\n",
    "#targetList = myRatr.getTargetList(id=dataId, butler = butler, refSpec=refSpec, lineList=lineList)\n",
    "#print 'targetList = ',targetList\n",
    "spectrumSet = myRat.run(refSet, butler, wLenFile=wLenFile, lineList=lineList)\n",
    "print spectrumSet"
   ]
  },
  {
   "cell_type": "code",
   "execution_count": 0,
   "metadata": {
    "collapsed": false
   },
   "outputs": [],
   "source": [
    "flux = spectrumSet.getAllFluxes()\n",
    "print flux\n",
    "lam = spectrumSet.getAllWavelengths()\n",
    "print lam\n",
    "sky = spectrumSet.getAllSkies()\n",
    "print sky\n",
    "mask = spectrumSet.getAllMasks()\n",
    "print mask\n",
    "var = spectrumSet.getAllVariances()\n",
    "print var\n",
    "covar = spectrumSet.getAllCovars()\n",
    "print covar"
   ]
  },
  {
   "cell_type": "code",
   "execution_count": 0,
   "metadata": {
    "collapsed": true
   },
   "outputs": [],
   "source": []
  }
 ],
 "metadata": {
  "kernelspec": {
   "display_name": "Python 2",
   "language": "python",
   "name": "python2"
  },
  "language_info": {
   "codemirror_mode": {
    "name": "ipython",
    "version": 2
   },
   "file_extension": ".py",
   "mimetype": "text/x-python",
   "name": "python",
   "nbconvert_exporter": "python",
   "pygments_lexer": "ipython2",
   "version": "2.7.12"
  }
 },
 "nbformat": 4,
 "nbformat_minor": 0
}