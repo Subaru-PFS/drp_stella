{
 "cells": [
  {
   "cell_type": "code",
   "execution_count": null,
   "metadata": {
    "collapsed": false
   },
   "outputs": [],
   "source": [
    "#run reduceArcTask\n",
    "\n",
    "import os\n",
    "import lsst.daf.persistence as dafPersist\n",
    "import lsst.utils\n",
    "import pfs.drp.stella as drpStella\n",
    "import pfs.drp.stella.reduceArcTask as reduceArcTask\n",
    "import matplotlib.pyplot as plt\n",
    "#%matplotlib inline\n",
    "%matplotlib notebook\n",
    "\n",
    "# create butler\n",
    "drpStellaDataDir = lsst.utils.getPackageDir(\"drp_stella_data\")\n",
    "butler = dafPersist.Butler(os.path.join(drpStellaDataDir,\"tests/data/PFS/\"))\n",
    "\n",
    "# create dataId for Arc\n",
    "arcVisit = 103\n",
    "spectrograph = 1\n",
    "arm = 'r'\n",
    "dataIdArc = dict(field=\"ARC\", visit=arcVisit, spectrograph=spectrograph, arm=arm)\n",
    "\n",
    "# set logLevel\n",
    "logLevel = {0: \"WARN\", 1: \"INFO\", 2: \"DEBUG\", 3: \"TRACE\"}[3]\n",
    "\n",
    "# set order for polynomial fitting\n",
    "polyFitOrder = 6\n",
    "\n",
    "# set minimum measure error for PolyFit\n",
    "minErr = 0.01\n",
    "\n",
    "myReduceArcTask = reduceArcTask.ReduceArcTask()\n",
    "\n",
    "wLenFile = os.path.join(lsst.utils.getPackageDir('obs_pfs'), 'pfs/RedFiberPixels.fits.gz')\n",
    "dataRefList = [ref for ref in butler.subset(\"postISRCCD\", 'visit', dataIdArc)]\n",
    "\n",
    "# set reduceArcTask parameters and run\n",
    "#myReduceArcTask.config.elements='Cd,Hg,Kr,Ne,Xe'\n",
    "#myReduceArcTask.config.minErr = minErr\n",
    "myReduceArcTask.config.order = polyFitOrder\n",
    "#myReduceArcTask.config.plot = 2\n",
    "myReduceArcTask.logLevel=logLevel\n",
    "\n",
    "spectrumSet = myReduceArcTask.run(dataRefList, butler, wLenFile)\n"
   ]
  },
  {
   "cell_type": "code",
   "execution_count": null,
   "metadata": {
    "collapsed": false
   },
   "outputs": [],
   "source": [
    "import numpy as np\n",
    "from pfs.datamodel.pfsArm import PfsArm\n",
    "pfsArm = PfsArm(dataIdArc['visit'], dataIdArc['spectrograph'], dataIdArc['arm'])\n",
    "pfsArm.read(os.path.join(drpStellaDataDir,\"tests/data/PFS/pfsArm/2016-11-11/v0000103/\"), setPfsConfig=False)\n",
    "\n",
    "for iFt in range(len(pfsArm.lam)):\n",
    "    pfsArm.plot(iFt+1)"
   ]
  },
  {
   "cell_type": "code",
   "execution_count": null,
   "metadata": {
    "collapsed": false
   },
   "outputs": [],
   "source": [
    "pfsArm = PfsArm(dataIdArc['visit'], dataIdArc['spectrograph'], dataIdArc['arm'])\n",
    "pfsArm.read(\"/Users/azuri/PFS/Data/rerun/azuri/tmp/pfsArm/2016-11-11/v0000103/\", setPfsConfig=False)\n",
    "\n",
    "for iFt in range(len(pfsArm.lam)):\n",
    "    pfsArm.plot(iFt+1)"
   ]
  },
  {
   "cell_type": "code",
   "execution_count": null,
   "metadata": {
    "collapsed": false
   },
   "outputs": [],
   "source": [
    "from pfs.drp.stella.utils import readLineListFile\n",
    "obsPfsDir = lsst.utils.getPackageDir(\"obs_pfs\")\n",
    "lineList = readLineListFile(os.path.join(obsPfsDir,\"pfs/lineLists/CdHgKrNeXe_red.fits\"))\n",
    "print lineList"
   ]
  },
  {
   "cell_type": "code",
   "execution_count": null,
   "metadata": {
    "collapsed": false
   },
   "outputs": [],
   "source": []
  },
  {
   "cell_type": "code",
   "execution_count": null,
   "metadata": {
    "collapsed": true
   },
   "outputs": [],
   "source": []
  }
 ],
 "metadata": {
  "kernelspec": {
   "display_name": "Python 2",
   "language": "python",
   "name": "python2"
  },
  "language_info": {
   "codemirror_mode": {
    "name": "ipython",
    "version": 2
   },
   "file_extension": ".py",
   "mimetype": "text/x-python",
   "name": "python",
   "nbconvert_exporter": "python",
   "pygments_lexer": "ipython2",
   "version": "2.7.12"
  }
 },
 "nbformat": 4,
 "nbformat_minor": 0
}
