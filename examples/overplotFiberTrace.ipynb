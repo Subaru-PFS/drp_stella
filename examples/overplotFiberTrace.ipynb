{
 "cells": [
  {
   "cell_type": "code",
   "execution_count": null,
   "metadata": {
    "collapsed": false
   },
   "outputs": [],
   "source": [
    "import os\n",
    "import lsst.utils\n",
    "import lsst.daf.persistence as dafPersist\n",
    "import pfs.drp.stella as drpStella\n",
    "\n",
    "import lsst.afw.display as afwDisplay\n",
    "display = afwDisplay.Display(1)"
   ]
  },
  {
   "cell_type": "code",
   "execution_count": null,
   "metadata": {
    "collapsed": false
   },
   "outputs": [],
   "source": [
    "dataDir = os.path.join(lsst.utils.getPackageDir(\"drp_stella_data\"),'tests/data/PFS')\n",
    "butler = dafPersist.Butler(dataDir)"
   ]
  },
  {
   "cell_type": "code",
   "execution_count": null,
   "metadata": {
    "collapsed": false
   },
   "outputs": [],
   "source": [
    "dataId = dict(visit=104, spectrograph=1, arm='r')\n",
    "exposure = butler.get('postISRCCD', dataId)"
   ]
  },
  {
   "cell_type": "code",
   "execution_count": null,
   "metadata": {
    "collapsed": false
   },
   "outputs": [],
   "source": [
    "from pfs.drp.stella.utils import makeFiberTraceSet\n",
    "\n",
    "dateObs = butler.queryMetadata(\"raw\", [\"dateObs\"], dataId)[0]\n",
    "pfsFiberTrace = butler.get(\"fibertrace\", dataId, calibDate='2016-11-11', calibVersion='fiberTrace')\n",
    "fts = makeFiberTraceSet(pfsFiberTrace)\n",
    "print fts.size(),' FiberTraces found'"
   ]
  },
  {
   "cell_type": "code",
   "execution_count": null,
   "metadata": {
    "collapsed": false
   },
   "outputs": [],
   "source": [
    "display.setMaskTransparency(50)\n",
    "display.mtv(exposure, title=\"parent\")"
   ]
  },
  {
   "cell_type": "code",
   "execution_count": null,
   "metadata": {
    "collapsed": false
   },
   "outputs": [],
   "source": [
    "dataIdArc = dict(visit=103, spectrograph=1, arm='r')\n",
    "arcExposure = butler.get('postISRCCD', dataIdArc)\n",
    "maskPlane = \"FIBERTRACE\"\n",
    "arcExposure.getMaskedImage().getMask().addMaskPlane(maskPlane)\n",
    "display.setMaskPlaneColor(maskPlane, \"GREEN\")\n",
    "\n",
    "addFiberTraceSetToMask(arcExposure.getMaskedImage().getMask(), fts)\n",
    "\n",
    "display.setMaskTransparency(50)\n",
    "display.mtv(arcExposure, title=\"parent\")"
   ]
  },
  {
   "cell_type": "code",
   "execution_count": null,
   "metadata": {
    "collapsed": true
   },
   "outputs": [],
   "source": []
  }
 ],
 "metadata": {
  "anaconda-cloud": {},
  "kernelspec": {
   "display_name": "Python 2",
   "language": "python",
   "name": "python2"
  },
  "language_info": {
   "codemirror_mode": {
    "name": "ipython",
    "version": 2
   },
   "file_extension": ".py",
   "mimetype": "text/x-python",
   "name": "python",
   "nbconvert_exporter": "python",
   "pygments_lexer": "ipython2",
   "version": "2.7.12"
  }
 },
 "nbformat": 4,
 "nbformat_minor": 0
}
