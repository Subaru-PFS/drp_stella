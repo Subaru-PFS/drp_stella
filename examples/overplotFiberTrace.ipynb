{
 "cells": [
  {
   "cell_type": "code",
   "execution_count": 0,
   "metadata": {
    "collapsed": false
   },
   "outputs": [],
   "source": [
    "import lsst.daf.persistence as dafPersist\n",
    "import lsst.afw.image as afwImage\n",
    "import lsst.afw.geom as afwGeom\n",
    "import numpy as np\n",
    "import os\n",
    "import lsst.utils\n",
    "import pfs.drp.stella.findAndTraceAperturesTask as fataTask\n",
    "import pfs.drp.stella as drpStella\n",
    "try:\n",
    "    import lsst.afw.display as afwDisplay\n",
    "except ImportError:\n",
    "    afwDisplay = None\n",
    "\n",
    "if afwDisplay:\n",
    "    try:\n",
    "        afwDisplay.setDefaultBackend(\"ds9\" if True else \"virtualDevice\")\n",
    "    except RuntimeError as e:\n",
    "        print e\n",
    "\n",
    "    afwDisplay.setDefaultMaskTransparency(75)"
   ]
  },
  {
   "cell_type": "code",
   "execution_count": 0,
   "metadata": {
    "collapsed": false
   },
   "outputs": [],
   "source": [
    "testDataDir = os.path.join(lsst.utils.getPackageDir(\"drp_stella_data\"),'data/PFS')\n",
    "butler = dafPersist.Butler(testDataDir)"
   ]
  },
  {
   "cell_type": "code",
   "execution_count": 0,
   "metadata": {
    "collapsed": false
   },
   "outputs": [],
   "source": [
    "dataId = dict(site='S', category='A', filter='r', visit=5, ccd=5)\n",
    "exposure = butler.get('postISRCCD', dataId)\n",
    "print exposure"
   ]
  },
  {
   "cell_type": "code",
   "execution_count": 0,
   "metadata": {
    "collapsed": false
   },
   "outputs": [],
   "source": [
    "display0 = afwDisplay.getDisplay()\n",
    "display0.mtv(exposure, title=\"parent\")\n",
    "display0.setMaskTransparency(50)\n",
    "display0.setMaskPlaneColor(\"CROSSTALK\", \"orange\")"
   ]
  },
  {
   "cell_type": "code",
   "execution_count": 0,
   "metadata": {
    "collapsed": false
   },
   "outputs": [],
   "source": [
    "print dir(exposure)"
   ]
  },
  {
   "cell_type": "code",
   "execution_count": 0,
   "metadata": {
    "collapsed": false
   },
   "outputs": [],
   "source": [
    "myFindTask = fataTask.FindAndTraceAperturesTask()\n",
    "fts = myFindTask.run(exposure)\n",
    "print fts.size()"
   ]
  },
  {
   "cell_type": "code",
   "execution_count": 0,
   "metadata": {
    "collapsed": false
   },
   "outputs": [],
   "source": [
    "for iTrace in range(fts.size()):\n",
    "    ft = fts.getFiberTrace(iTrace)\n",
    "    xCenters = ft.getXCenters()\n",
    "    ftFunction = ft.getFiberTraceFunction()\n",
    "    yLow = ftFunction.yCenter + ftFunction.yLow\n",
    "    yHigh = ftFunction.yCenter + ftFunction.yHigh\n",
    "\n",
    "    for y in np.arange(yLow, yHigh+1, 20):\n",
    "        point = afwGeom.Point2D(xCenters[y-yLow],y)\n",
    "        display0.dot(\"+\", xCenters[y-yLow], y)"
   ]
  },
  {
   "cell_type": "code",
   "execution_count": 0,
   "metadata": {
    "collapsed": false
   },
   "outputs": [],
   "source": [
    "for ft in fts.getTraces():\n",
    "    drpStella.markFiberTraceInMask(ft, exposure.getMaskedImage())"
   ]
  },
  {
   "cell_type": "code",
   "execution_count": 0,
   "metadata": {
    "collapsed": true
   },
   "outputs": [],
   "source": [
    "display0 = afwDisplay.getDisplay()\n",
    "display0.mtv(exposure, title=\"parent\")\n",
    "display0.setMaskTransparency(50)\n",
    "display0.setMaskPlaneColor(\"CROSSTALK\", \"orange\")"
   ]
  },
  {
   "cell_type": "code",
   "execution_count": 0,
   "metadata": {
    "collapsed": true
   },
   "outputs": [],
   "source": []
  }
 ],
 "metadata": {
  "kernelspec": {
   "display_name": "Python 2",
   "language": "python",
   "name": "python2"
  },
  "language_info": {
   "codemirror_mode": {
    "name": "ipython",
    "version": 2
   },
   "file_extension": ".py",
   "mimetype": "text/x-python",
   "name": "python",
   "nbconvert_exporter": "python",
   "pygments_lexer": "ipython2",
   "version": "2.7.12"
  }
 },
 "nbformat": 4,
 "nbformat_minor": 0
}