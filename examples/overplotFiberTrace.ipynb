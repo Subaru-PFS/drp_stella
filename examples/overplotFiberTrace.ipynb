{
 "cells": [
  {
   "cell_type": "code",
   "execution_count": null,
   "metadata": {
    "collapsed": false
   },
   "outputs": [],
   "source": [
    "import os\n",
    "import lsst.utils\n",
    "import lsst.daf.persistence as dafPersist\n",
    "import pfs.drp.stella as drpStella\n",
    "\n",
    "import lsst.afw.display as afwDisplay\n",
    "display = afwDisplay.Display(1)"
   ]
  },
  {
   "cell_type": "code",
   "execution_count": null,
   "metadata": {
    "collapsed": false
   },
   "outputs": [],
   "source": [
    "dataDir = os.path.join(lsst.utils.getPackageDir(\"drp_stella_data\"),'tests/data/PFS')\n",
    "butler = dafPersist.Butler(dataDir)"
   ]
  },
  {
   "cell_type": "code",
   "execution_count": null,
   "metadata": {
    "collapsed": false
   },
   "outputs": [],
   "source": [
    "dataId = dict(visit=103)\n",
    "exposure = butler.get('postISRCCD', dataId)"
   ]
  },
  {
   "cell_type": "code",
   "execution_count": null,
   "metadata": {
    "collapsed": false
   },
   "outputs": [],
   "source": [
    "from pfs.drp.stella.utils import makeFiberTraceSet\n",
    "\n",
    "dateObs = butler.queryMetadata(\"raw\", [\"dateObs\"], dataId)[0]\n",
    "pfsFiberTrace = butler.get(\"fibertrace\", dataId)\n",
    "fts = makeFiberTraceSet(pfsFiberTrace)\n",
    "print fts.size(),' FiberTraces found'"
   ]
  },
  {
   "cell_type": "code",
   "execution_count": null,
   "metadata": {
    "collapsed": false
   },
   "outputs": [],
   "source": [
    "maskPlane = \"FIBERTRACE\"\n",
    "exposure.getMaskedImage().getMask().addMaskPlane(maskPlane)\n",
    "display.setMaskPlaneColor(maskPlane, \"GREEN\")\n",
    "display.setMaskTransparency(50)\n",
    "\n",
    "ftMask = 1 << exposure.getMaskedImage().getMask().getMaskPlane(maskPlane)\n",
    "for ft in fts.getTraces():\n",
    "    drpStella.markFiberTraceInMask(ft, exposure.getMaskedImage().getMask(), ftMask)\n",
    "\n",
    "display.mtv(exposure, title=\"parent\")"
   ]
  },
  {
   "cell_type": "code",
   "execution_count": null,
   "metadata": {
    "collapsed": false
   },
   "outputs": [],
   "source": [
    "with display.Buffering():\n",
    "    for ft in fts.getTraces():\n",
    "        xCenters = ft.getXCenters()\n",
    "        ftFunction = ft.getFiberTraceFunction()\n",
    "        yLow = ftFunction.yCenter + ftFunction.yLow\n",
    "        yHigh = ftFunction.yCenter + ftFunction.yHigh\n",
    "\n",
    "        for y in range(yLow, yHigh):\n",
    "            pointA = [xCenters[y-yLow],y]\n",
    "            pointB = [xCenters[y-yLow+1],y+1]\n",
    "            points = [pointA, pointB]\n",
    "            display.line(points, ctype='red')"
   ]
  },
  {
   "cell_type": "code",
   "execution_count": null,
   "metadata": {
    "collapsed": false
   },
   "outputs": [],
   "source": [
    "butler = dafPersist.Butler(\"/Volumes/external/azuri/spectra/pfs/LAM\")\n",
    "dataIdArc = dict(visit=2033)\n",
    "pfsFiberTrace = butler.get(\"fibertrace\", dataIdArc)\n",
    "fts = makeFiberTraceSet(pfsFiberTrace)\n",
    "arcExposure = butler.get('postISRCCD', dataIdArc)\n",
    "maskPlane = \"FIBERTRACE\"\n",
    "arcExposure.getMaskedImage().getMask().addMaskPlane(maskPlane)\n",
    "display.setMaskPlaneColor(maskPlane, \"GREEN\")\n",
    "\n",
    "ftMask = 1 << arcExposure.getMaskedImage().getMask().getMaskPlane(maskPlane)\n",
    "for ft in fts.getTraces():\n",
    "    drpStella.markFiberTraceInMask(ft, arcExposure.getMaskedImage().getMask(), ftMask)\n",
    "\n",
    "display.setMaskTransparency(50)\n",
    "display.mtv(arcExposure, title=\"parent\")\n",
    "with display.Buffering():\n",
    "    for ft in fts.getTraces():\n",
    "        xCenters = ft.getXCenters()\n",
    "        ftFunction = ft.getFiberTraceFunction()\n",
    "        yLow = ftFunction.yCenter + ftFunction.yLow\n",
    "        yHigh = ftFunction.yCenter + ftFunction.yHigh\n",
    "\n",
    "        for y in range(yLow, yHigh):\n",
    "            pointA = [xCenters[y-yLow],y]\n",
    "            pointB = [xCenters[y-yLow+1],y+1]\n",
    "            points = [pointA, pointB]\n",
    "            display.line(points, ctype='red')"
   ]
  },
  {
   "cell_type": "code",
   "execution_count": null,
   "metadata": {
    "collapsed": true
   },
   "outputs": [],
   "source": []
  }
 ],
 "metadata": {
  "anaconda-cloud": {},
  "kernelspec": {
   "display_name": "Python 2",
   "language": "python",
   "name": "python2"
  },
  "language_info": {
   "codemirror_mode": {
    "name": "ipython",
    "version": 2
   },
   "file_extension": ".py",
   "mimetype": "text/x-python",
   "name": "python",
   "nbconvert_exporter": "python",
   "pygments_lexer": "ipython2",
   "version": "2.7.12"
  }
 },
 "nbformat": 4,
 "nbformat_minor": 0
}
