{
 "cells": [
  {
   "cell_type": "code",
   "execution_count": 0,
   "metadata": {
    "collapsed": false
   },
   "outputs": [],
   "source": [
    "import lsst.daf.persistence as dafPersist\n",
    "import numpy as np\n",
    "import os\n",
    "import lsst.utils\n",
    "import pfs.drp.stella.findAndTraceAperturesTask as fataTask\n",
    "import pfs.drp.stella as drpStella\n",
    "import lsst.afw.display as afwDisplay\n",
    "display = afwDisplay.Display(1)"
   ]
  },
  {
   "cell_type": "code",
   "execution_count": 0,
   "metadata": {
    "collapsed": false
   },
   "outputs": [],
   "source": [
    "testDataDir = os.path.join(lsst.utils.getPackageDir(\"drp_stella_data\"),'tests/data/PFS')\n",
    "butler = dafPersist.Butler(testDataDir)"
   ]
  },
  {
   "cell_type": "code",
   "execution_count": 0,
   "metadata": {
    "collapsed": false
   },
   "outputs": [],
   "source": [
    "dataId = dict(visit=5, ccd=5)\n",
    "exposure = butler.get('postISRCCD', dataId)"
   ]
  },
  {
   "cell_type": "code",
   "execution_count": 0,
   "metadata": {
    "collapsed": false
   },
   "outputs": [],
   "source": [
    "display.mtv(exposure, title=\"Flat\")\n",
    "display.setMaskTransparency(50)"
   ]
  },
  {
   "cell_type": "code",
   "execution_count": 0,
   "metadata": {
    "collapsed": false
   },
   "outputs": [],
   "source": [
    "myFindTask = fataTask.FindAndTraceAperturesTask()\n",
    "fts = myFindTask.run(exposure)"
   ]
  },
  {
   "cell_type": "code",
   "execution_count": 0,
   "metadata": {
    "collapsed": true
   },
   "outputs": [],
   "source": [
    "exposure.getMaskedImage().getMask().addMaskPlane(\"FIBERTRACE\")\n",
    "\n",
    "ftMask = exposure.getMaskedImage().getMask().getPlaneBitMask(\"FIBERTRACE\")\n",
    "ftMask = 1 << exposure.getMaskedImage().getMask().getMaskPlane(\"FIBERTRACE\")\n",
    "\n",
    "for ft in fts.getTraces():\n",
    "    drpStella.markFiberTraceInMask(ft, exposure.getMaskedImage().getMask(), ftMask)\n",
    "\n",
    "display.setMaskPlaneColor(\"FIBERTRACE\", \"ORANGE\")\n",
    "\n",
    "msk = exposure.getMaskedImage().getMask()\n",
    "msk.getMaskPlane(\"FIBERTRACE\")\n",
    "msk &= ~0x2\n",
    "\n",
    "display.mtv(exposure, title=\"parent\")"
   ]
  },
  {
   "cell_type": "code",
   "execution_count": 0,
   "metadata": {
    "collapsed": false
   },
   "outputs": [],
   "source": [
    "with display.Buffering():\n",
    "    for iTrace in range(fts.size()):\n",
    "        ft = fts.getFiberTrace(iTrace)\n",
    "        xCenters = ft.getXCenters()\n",
    "        ftFunction = ft.getFiberTraceFunction()\n",
    "        yLow = ftFunction.yCenter + ftFunction.yLow\n",
    "        yHigh = ftFunction.yCenter + ftFunction.yHigh\n",
    "\n",
    "        for y in np.arange(yLow, yHigh):\n",
    "            pointA = [xCenters[y-yLow]-0.5,y]\n",
    "            pointB = [xCenters[y-yLow+1]-0.5,y+1]\n",
    "            points = [pointA, pointB]\n",
    "            display.line(points, ctype='red')"
   ]
  },
  {
   "cell_type": "code",
   "execution_count": 0,
   "metadata": {
    "collapsed": true
   },
   "outputs": [],
   "source": []
  }
 ],
 "metadata": {
  "kernelspec": {
   "display_name": "Python 2",
   "language": "python",
   "name": "python2"
  },
  "language_info": {
   "codemirror_mode": {
    "name": "ipython",
    "version": 2
   },
   "file_extension": ".py",
   "mimetype": "text/x-python",
   "name": "python",
   "nbconvert_exporter": "python",
   "pygments_lexer": "ipython2",
   "version": "2.7.12"
  }
 },
 "nbformat": 4,
 "nbformat_minor": 0
}